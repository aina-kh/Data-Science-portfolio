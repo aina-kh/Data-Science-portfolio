{
 "cells": [
  {
   "cell_type": "markdown",
   "metadata": {},
   "source": [
    "Recently, someone has broken into my friend's house and has stolen almost all of her valuables. Now, she is looking for a new a place, since she does not feel safe in her neighbourhood anymore. However, the problem is that my friend does not really know which neighbourhoods could be considered safe in Toronto, particularly in downtown. I decided to help her by creating a map of Break and Enter crime, which is classified as one of the Major Crime Indicators(MCI), specifically at apartments in the downtown of Toronto. In addition, I will be using one of the most popular unsupervised learning algorithms - clustering with K-Means. However, the main focus of this project is to display the centroids of the clusters, rather than examining the clusters themselves. The data used for this project is available [here](http://data.torontopolice.on.ca/datasets/mci-2014-to-2017?geometry=-80.064%2C43.544%2C-78.663%2C43.891)."
   ]
  },
  {
   "cell_type": "code",
   "execution_count": 1,
   "metadata": {},
   "outputs": [],
   "source": [
    "import matplotlib.pyplot as plt\n",
    "import pandas as pd\n",
    "\n",
    "from sklearn.cluster import KMeans"
   ]
  },
  {
   "cell_type": "code",
   "execution_count": 2,
   "metadata": {},
   "outputs": [],
   "source": [
    "crime_data = pd.read_csv('MCI_2014_to_2017.csv', delimiter=\",\", header=0)"
   ]
  },
  {
   "cell_type": "markdown",
   "metadata": {},
   "source": [
    "### Data Wrangling"
   ]
  },
  {
   "cell_type": "markdown",
   "metadata": {},
   "source": [
    "First, let's have a look at the first five rows of the data and then at the feature names and their value types."
   ]
  },
  {
   "cell_type": "code",
   "execution_count": 3,
   "metadata": {},
   "outputs": [
    {
     "data": {
      "text/html": [
       "<div>\n",
       "<style scoped>\n",
       "    .dataframe tbody tr th:only-of-type {\n",
       "        vertical-align: middle;\n",
       "    }\n",
       "\n",
       "    .dataframe tbody tr th {\n",
       "        vertical-align: top;\n",
       "    }\n",
       "\n",
       "    .dataframe thead th {\n",
       "        text-align: right;\n",
       "    }\n",
       "</style>\n",
       "<table border=\"1\" class=\"dataframe\">\n",
       "  <thead>\n",
       "    <tr style=\"text-align: right;\">\n",
       "      <th></th>\n",
       "      <th>X</th>\n",
       "      <th>Y</th>\n",
       "      <th>Index_</th>\n",
       "      <th>event_unique_id</th>\n",
       "      <th>occurrencedate</th>\n",
       "      <th>reporteddate</th>\n",
       "      <th>premisetype</th>\n",
       "      <th>ucr_code</th>\n",
       "      <th>ucr_ext</th>\n",
       "      <th>offence</th>\n",
       "      <th>...</th>\n",
       "      <th>occurrencedayofyear</th>\n",
       "      <th>occurrencedayofweek</th>\n",
       "      <th>occurrencehour</th>\n",
       "      <th>MCI</th>\n",
       "      <th>Division</th>\n",
       "      <th>Hood_ID</th>\n",
       "      <th>Neighbourhood</th>\n",
       "      <th>Lat</th>\n",
       "      <th>Long</th>\n",
       "      <th>FID</th>\n",
       "    </tr>\n",
       "  </thead>\n",
       "  <tbody>\n",
       "    <tr>\n",
       "      <th>0</th>\n",
       "      <td>-79.520401</td>\n",
       "      <td>43.768829</td>\n",
       "      <td>14601</td>\n",
       "      <td>GO-20142775022</td>\n",
       "      <td>2014-08-25T04:00:00.000Z</td>\n",
       "      <td>2014-08-25T04:00:00.000Z</td>\n",
       "      <td>Outside</td>\n",
       "      <td>1430</td>\n",
       "      <td>100</td>\n",
       "      <td>Assault</td>\n",
       "      <td>...</td>\n",
       "      <td>237.0</td>\n",
       "      <td>Monday</td>\n",
       "      <td>18</td>\n",
       "      <td>Assault</td>\n",
       "      <td>D31</td>\n",
       "      <td>24</td>\n",
       "      <td>Black Creek (24)</td>\n",
       "      <td>43.768829</td>\n",
       "      <td>-79.520401</td>\n",
       "      <td>14001</td>\n",
       "    </tr>\n",
       "    <tr>\n",
       "      <th>1</th>\n",
       "      <td>-79.580856</td>\n",
       "      <td>43.642574</td>\n",
       "      <td>14602</td>\n",
       "      <td>GO-20142870874</td>\n",
       "      <td>2014-08-25T04:00:00.000Z</td>\n",
       "      <td>2014-09-08T04:00:00.000Z</td>\n",
       "      <td>House</td>\n",
       "      <td>2120</td>\n",
       "      <td>220</td>\n",
       "      <td>B&amp;E W'Intent</td>\n",
       "      <td>...</td>\n",
       "      <td>237.0</td>\n",
       "      <td>Monday</td>\n",
       "      <td>9</td>\n",
       "      <td>Break and Enter</td>\n",
       "      <td>D22</td>\n",
       "      <td>11</td>\n",
       "      <td>Eringate-Centennial-West Deane (11)</td>\n",
       "      <td>43.642574</td>\n",
       "      <td>-79.580856</td>\n",
       "      <td>14002</td>\n",
       "    </tr>\n",
       "    <tr>\n",
       "      <th>2</th>\n",
       "      <td>-79.260445</td>\n",
       "      <td>43.762909</td>\n",
       "      <td>14603</td>\n",
       "      <td>GO-20142802386</td>\n",
       "      <td>2014-08-25T04:00:00.000Z</td>\n",
       "      <td>2014-08-29T04:00:00.000Z</td>\n",
       "      <td>House</td>\n",
       "      <td>1430</td>\n",
       "      <td>100</td>\n",
       "      <td>Assault</td>\n",
       "      <td>...</td>\n",
       "      <td>237.0</td>\n",
       "      <td>Monday</td>\n",
       "      <td>11</td>\n",
       "      <td>Assault</td>\n",
       "      <td>D41</td>\n",
       "      <td>127</td>\n",
       "      <td>Bendale (127)</td>\n",
       "      <td>43.762909</td>\n",
       "      <td>-79.260445</td>\n",
       "      <td>14003</td>\n",
       "    </tr>\n",
       "    <tr>\n",
       "      <th>3</th>\n",
       "      <td>-79.367546</td>\n",
       "      <td>43.663208</td>\n",
       "      <td>14604</td>\n",
       "      <td>GO-20142777955</td>\n",
       "      <td>2014-08-25T04:00:00.000Z</td>\n",
       "      <td>2014-08-26T04:00:00.000Z</td>\n",
       "      <td>Commercial</td>\n",
       "      <td>2120</td>\n",
       "      <td>200</td>\n",
       "      <td>B&amp;E</td>\n",
       "      <td>...</td>\n",
       "      <td>237.0</td>\n",
       "      <td>Monday</td>\n",
       "      <td>17</td>\n",
       "      <td>Break and Enter</td>\n",
       "      <td>D51</td>\n",
       "      <td>71</td>\n",
       "      <td>Cabbagetown-South St.James Town (71)</td>\n",
       "      <td>43.663208</td>\n",
       "      <td>-79.367546</td>\n",
       "      <td>14004</td>\n",
       "    </tr>\n",
       "    <tr>\n",
       "      <th>4</th>\n",
       "      <td>-79.231758</td>\n",
       "      <td>43.776440</td>\n",
       "      <td>14605</td>\n",
       "      <td>GO-20142778699</td>\n",
       "      <td>2014-08-25T04:00:00.000Z</td>\n",
       "      <td>2014-08-26T04:00:00.000Z</td>\n",
       "      <td>Other</td>\n",
       "      <td>2120</td>\n",
       "      <td>200</td>\n",
       "      <td>B&amp;E</td>\n",
       "      <td>...</td>\n",
       "      <td>237.0</td>\n",
       "      <td>Monday</td>\n",
       "      <td>16</td>\n",
       "      <td>Break and Enter</td>\n",
       "      <td>D43</td>\n",
       "      <td>137</td>\n",
       "      <td>Woburn (137)</td>\n",
       "      <td>43.776440</td>\n",
       "      <td>-79.231758</td>\n",
       "      <td>14005</td>\n",
       "    </tr>\n",
       "  </tbody>\n",
       "</table>\n",
       "<p>5 rows × 29 columns</p>\n",
       "</div>"
      ],
      "text/plain": [
       "           X          Y  Index_ event_unique_id            occurrencedate  \\\n",
       "0 -79.520401  43.768829   14601  GO-20142775022  2014-08-25T04:00:00.000Z   \n",
       "1 -79.580856  43.642574   14602  GO-20142870874  2014-08-25T04:00:00.000Z   \n",
       "2 -79.260445  43.762909   14603  GO-20142802386  2014-08-25T04:00:00.000Z   \n",
       "3 -79.367546  43.663208   14604  GO-20142777955  2014-08-25T04:00:00.000Z   \n",
       "4 -79.231758  43.776440   14605  GO-20142778699  2014-08-25T04:00:00.000Z   \n",
       "\n",
       "               reporteddate premisetype  ucr_code  ucr_ext       offence  \\\n",
       "0  2014-08-25T04:00:00.000Z     Outside      1430      100       Assault   \n",
       "1  2014-09-08T04:00:00.000Z       House      2120      220  B&E W'Intent   \n",
       "2  2014-08-29T04:00:00.000Z       House      1430      100       Assault   \n",
       "3  2014-08-26T04:00:00.000Z  Commercial      2120      200           B&E   \n",
       "4  2014-08-26T04:00:00.000Z       Other      2120      200           B&E   \n",
       "\n",
       "   ...    occurrencedayofyear occurrencedayofweek  occurrencehour  \\\n",
       "0  ...                  237.0          Monday                  18   \n",
       "1  ...                  237.0          Monday                   9   \n",
       "2  ...                  237.0          Monday                  11   \n",
       "3  ...                  237.0          Monday                  17   \n",
       "4  ...                  237.0          Monday                  16   \n",
       "\n",
       "               MCI Division  Hood_ID                         Neighbourhood  \\\n",
       "0          Assault      D31       24                      Black Creek (24)   \n",
       "1  Break and Enter      D22       11   Eringate-Centennial-West Deane (11)   \n",
       "2          Assault      D41      127                         Bendale (127)   \n",
       "3  Break and Enter      D51       71  Cabbagetown-South St.James Town (71)   \n",
       "4  Break and Enter      D43      137                          Woburn (137)   \n",
       "\n",
       "         Lat       Long    FID  \n",
       "0  43.768829 -79.520401  14001  \n",
       "1  43.642574 -79.580856  14002  \n",
       "2  43.762909 -79.260445  14003  \n",
       "3  43.663208 -79.367546  14004  \n",
       "4  43.776440 -79.231758  14005  \n",
       "\n",
       "[5 rows x 29 columns]"
      ]
     },
     "execution_count": 3,
     "metadata": {},
     "output_type": "execute_result"
    }
   ],
   "source": [
    "crime_data.head()"
   ]
  },
  {
   "cell_type": "code",
   "execution_count": 4,
   "metadata": {},
   "outputs": [
    {
     "data": {
      "text/plain": [
       "X                      float64\n",
       "Y                      float64\n",
       "Index_                   int64\n",
       "event_unique_id         object\n",
       "occurrencedate          object\n",
       "reporteddate            object\n",
       "premisetype             object\n",
       "ucr_code                 int64\n",
       "ucr_ext                  int64\n",
       "offence                 object\n",
       "reportedyear             int64\n",
       "reportedmonth           object\n",
       "reportedday              int64\n",
       "reporteddayofyear        int64\n",
       "reporteddayofweek       object\n",
       "reportedhour             int64\n",
       "occurrenceyear         float64\n",
       "occurrencemonth         object\n",
       "occurrenceday          float64\n",
       "occurrencedayofyear    float64\n",
       "occurrencedayofweek     object\n",
       "occurrencehour           int64\n",
       "MCI                     object\n",
       "Division                object\n",
       "Hood_ID                  int64\n",
       "Neighbourhood           object\n",
       "Lat                    float64\n",
       "Long                   float64\n",
       "FID                      int64\n",
       "dtype: object"
      ]
     },
     "execution_count": 4,
     "metadata": {},
     "output_type": "execute_result"
    }
   ],
   "source": [
    "crime_data.dtypes"
   ]
  },
  {
   "cell_type": "markdown",
   "metadata": {},
   "source": [
    "It seems that the pair of X and Y columns have the same values as Long and Lat columns. We can can slice the dataset and call first five rows to see if there are any rows where the values are not the same."
   ]
  },
  {
   "cell_type": "code",
   "execution_count": 5,
   "metadata": {
    "scrolled": true
   },
   "outputs": [
    {
     "data": {
      "text/html": [
       "<div>\n",
       "<style scoped>\n",
       "    .dataframe tbody tr th:only-of-type {\n",
       "        vertical-align: middle;\n",
       "    }\n",
       "\n",
       "    .dataframe tbody tr th {\n",
       "        vertical-align: top;\n",
       "    }\n",
       "\n",
       "    .dataframe thead th {\n",
       "        text-align: right;\n",
       "    }\n",
       "</style>\n",
       "<table border=\"1\" class=\"dataframe\">\n",
       "  <thead>\n",
       "    <tr style=\"text-align: right;\">\n",
       "      <th></th>\n",
       "      <th>X</th>\n",
       "      <th>Y</th>\n",
       "      <th>Index_</th>\n",
       "      <th>event_unique_id</th>\n",
       "      <th>occurrencedate</th>\n",
       "      <th>reporteddate</th>\n",
       "      <th>premisetype</th>\n",
       "      <th>ucr_code</th>\n",
       "      <th>ucr_ext</th>\n",
       "      <th>offence</th>\n",
       "      <th>...</th>\n",
       "      <th>occurrencedayofyear</th>\n",
       "      <th>occurrencedayofweek</th>\n",
       "      <th>occurrencehour</th>\n",
       "      <th>MCI</th>\n",
       "      <th>Division</th>\n",
       "      <th>Hood_ID</th>\n",
       "      <th>Neighbourhood</th>\n",
       "      <th>Lat</th>\n",
       "      <th>Long</th>\n",
       "      <th>FID</th>\n",
       "    </tr>\n",
       "  </thead>\n",
       "  <tbody>\n",
       "    <tr>\n",
       "      <th>2</th>\n",
       "      <td>-79.260445</td>\n",
       "      <td>43.762909</td>\n",
       "      <td>14603</td>\n",
       "      <td>GO-20142802386</td>\n",
       "      <td>2014-08-25T04:00:00.000Z</td>\n",
       "      <td>2014-08-29T04:00:00.000Z</td>\n",
       "      <td>House</td>\n",
       "      <td>1430</td>\n",
       "      <td>100</td>\n",
       "      <td>Assault</td>\n",
       "      <td>...</td>\n",
       "      <td>237.0</td>\n",
       "      <td>Monday</td>\n",
       "      <td>11</td>\n",
       "      <td>Assault</td>\n",
       "      <td>D41</td>\n",
       "      <td>127</td>\n",
       "      <td>Bendale (127)</td>\n",
       "      <td>43.762909</td>\n",
       "      <td>-79.260445</td>\n",
       "      <td>14003</td>\n",
       "    </tr>\n",
       "    <tr>\n",
       "      <th>3</th>\n",
       "      <td>-79.367546</td>\n",
       "      <td>43.663208</td>\n",
       "      <td>14604</td>\n",
       "      <td>GO-20142777955</td>\n",
       "      <td>2014-08-25T04:00:00.000Z</td>\n",
       "      <td>2014-08-26T04:00:00.000Z</td>\n",
       "      <td>Commercial</td>\n",
       "      <td>2120</td>\n",
       "      <td>200</td>\n",
       "      <td>B&amp;E</td>\n",
       "      <td>...</td>\n",
       "      <td>237.0</td>\n",
       "      <td>Monday</td>\n",
       "      <td>17</td>\n",
       "      <td>Break and Enter</td>\n",
       "      <td>D51</td>\n",
       "      <td>71</td>\n",
       "      <td>Cabbagetown-South St.James Town (71)</td>\n",
       "      <td>43.663208</td>\n",
       "      <td>-79.367546</td>\n",
       "      <td>14004</td>\n",
       "    </tr>\n",
       "    <tr>\n",
       "      <th>7</th>\n",
       "      <td>-79.382530</td>\n",
       "      <td>43.705540</td>\n",
       "      <td>14608</td>\n",
       "      <td>GO-20142779486</td>\n",
       "      <td>2014-08-25T04:00:00.000Z</td>\n",
       "      <td>2014-08-26T04:00:00.000Z</td>\n",
       "      <td>House</td>\n",
       "      <td>2120</td>\n",
       "      <td>200</td>\n",
       "      <td>B&amp;E</td>\n",
       "      <td>...</td>\n",
       "      <td>237.0</td>\n",
       "      <td>Monday</td>\n",
       "      <td>21</td>\n",
       "      <td>Break and Enter</td>\n",
       "      <td>D53</td>\n",
       "      <td>99</td>\n",
       "      <td>Mount Pleasant East (99)</td>\n",
       "      <td>43.705540</td>\n",
       "      <td>-79.382530</td>\n",
       "      <td>14008</td>\n",
       "    </tr>\n",
       "    <tr>\n",
       "      <th>9</th>\n",
       "      <td>-79.344650</td>\n",
       "      <td>43.764641</td>\n",
       "      <td>14610</td>\n",
       "      <td>GO-20142910587</td>\n",
       "      <td>2014-09-14T04:00:00.000Z</td>\n",
       "      <td>2014-09-14T04:00:00.000Z</td>\n",
       "      <td>Apartment</td>\n",
       "      <td>1430</td>\n",
       "      <td>100</td>\n",
       "      <td>Assault</td>\n",
       "      <td>...</td>\n",
       "      <td>257.0</td>\n",
       "      <td>Sunday</td>\n",
       "      <td>20</td>\n",
       "      <td>Assault</td>\n",
       "      <td>D33</td>\n",
       "      <td>45</td>\n",
       "      <td>Parkwoods-Donalda (45)</td>\n",
       "      <td>43.764641</td>\n",
       "      <td>-79.344650</td>\n",
       "      <td>14010</td>\n",
       "    </tr>\n",
       "    <tr>\n",
       "      <th>17</th>\n",
       "      <td>-79.252052</td>\n",
       "      <td>43.735851</td>\n",
       "      <td>14618</td>\n",
       "      <td>GO-20142941988</td>\n",
       "      <td>2014-09-16T04:00:00.000Z</td>\n",
       "      <td>2014-09-19T04:00:00.000Z</td>\n",
       "      <td>Commercial</td>\n",
       "      <td>1430</td>\n",
       "      <td>100</td>\n",
       "      <td>Assault</td>\n",
       "      <td>...</td>\n",
       "      <td>259.0</td>\n",
       "      <td>Tuesday</td>\n",
       "      <td>2</td>\n",
       "      <td>Assault</td>\n",
       "      <td>D41</td>\n",
       "      <td>138</td>\n",
       "      <td>Eglinton East (138)</td>\n",
       "      <td>43.735851</td>\n",
       "      <td>-79.252052</td>\n",
       "      <td>14018</td>\n",
       "    </tr>\n",
       "  </tbody>\n",
       "</table>\n",
       "<p>5 rows × 29 columns</p>\n",
       "</div>"
      ],
      "text/plain": [
       "            X          Y  Index_ event_unique_id            occurrencedate  \\\n",
       "2  -79.260445  43.762909   14603  GO-20142802386  2014-08-25T04:00:00.000Z   \n",
       "3  -79.367546  43.663208   14604  GO-20142777955  2014-08-25T04:00:00.000Z   \n",
       "7  -79.382530  43.705540   14608  GO-20142779486  2014-08-25T04:00:00.000Z   \n",
       "9  -79.344650  43.764641   14610  GO-20142910587  2014-09-14T04:00:00.000Z   \n",
       "17 -79.252052  43.735851   14618  GO-20142941988  2014-09-16T04:00:00.000Z   \n",
       "\n",
       "                reporteddate premisetype  ucr_code  ucr_ext  offence  ...    \\\n",
       "2   2014-08-29T04:00:00.000Z       House      1430      100  Assault  ...     \n",
       "3   2014-08-26T04:00:00.000Z  Commercial      2120      200      B&E  ...     \n",
       "7   2014-08-26T04:00:00.000Z       House      2120      200      B&E  ...     \n",
       "9   2014-09-14T04:00:00.000Z   Apartment      1430      100  Assault  ...     \n",
       "17  2014-09-19T04:00:00.000Z  Commercial      1430      100  Assault  ...     \n",
       "\n",
       "    occurrencedayofyear occurrencedayofweek  occurrencehour              MCI  \\\n",
       "2                 237.0          Monday                  11          Assault   \n",
       "3                 237.0          Monday                  17  Break and Enter   \n",
       "7                 237.0          Monday                  21  Break and Enter   \n",
       "9                 257.0          Sunday                  20          Assault   \n",
       "17                259.0          Tuesday                  2          Assault   \n",
       "\n",
       "   Division  Hood_ID                         Neighbourhood        Lat  \\\n",
       "2       D41      127                         Bendale (127)  43.762909   \n",
       "3       D51       71  Cabbagetown-South St.James Town (71)  43.663208   \n",
       "7       D53       99              Mount Pleasant East (99)  43.705540   \n",
       "9       D33       45                Parkwoods-Donalda (45)  43.764641   \n",
       "17      D41      138                   Eglinton East (138)  43.735851   \n",
       "\n",
       "         Long    FID  \n",
       "2  -79.260445  14003  \n",
       "3  -79.367546  14004  \n",
       "7  -79.382530  14008  \n",
       "9  -79.344650  14010  \n",
       "17 -79.252052  14018  \n",
       "\n",
       "[5 rows x 29 columns]"
      ]
     },
     "execution_count": 5,
     "metadata": {},
     "output_type": "execute_result"
    }
   ],
   "source": [
    "crime_data[crime_data.X != crime_data.Long].head()"
   ]
  },
  {
   "cell_type": "code",
   "execution_count": 6,
   "metadata": {},
   "outputs": [
    {
     "name": "stdout",
     "output_type": "stream",
     "text": [
      "-79.26044460000001\n",
      "-79.2604446\n"
     ]
    }
   ],
   "source": [
    "print(crime_data.X[2])\n",
    "print(crime_data.Long[2])"
   ]
  },
  {
   "cell_type": "markdown",
   "metadata": {},
   "source": [
    "In general, the values are the same, so I will use the pair of Long and Lat columns. This means that I have to drop X and Y columns. In addition, I will drop some index columns which are not statistically meaningful and _Neighbourhood_ column, because we have *Hood_ID*, which is basically the same feature."
   ]
  },
  {
   "cell_type": "code",
   "execution_count": 7,
   "metadata": {},
   "outputs": [],
   "source": [
    "crime_data.drop(['X', 'Y', 'Index_', 'event_unique_id','ucr_code','ucr_ext','FID', \n",
    "                 'Neighbourhood'], axis=1, inplace=True)"
   ]
  },
  {
   "cell_type": "markdown",
   "metadata": {},
   "source": [
    "Now, let's change the type of _occurrencedate_ and _reporteddate_ features. The cell itself is consisting of the date and time, but I only need the date, because we have two other features such as _occurrencehour_ and _reportedhour_, which I believe are more descriptive."
   ]
  },
  {
   "cell_type": "code",
   "execution_count": 8,
   "metadata": {},
   "outputs": [],
   "source": [
    "occurrencedate_list = crime_data.occurrencedate.str.split('T').tolist()\n",
    "reporteddate_list = crime_data.reporteddate.str.split('T').tolist()\n",
    "\n",
    "for i in range(len(occurrencedate_list)):\n",
    "    occurrencedate_list[i] = occurrencedate_list[i][0]\n",
    "\n",
    "for i in range(len(reporteddate_list)):\n",
    "    reporteddate_list[i] = reporteddate_list[i][0]\n",
    "    \n",
    "crime_data['occurrencedate'] = occurrencedate_list\n",
    "crime_data['reporteddate'] = reporteddate_list\n",
    "\n",
    "crime_data.occurrencedate = pd.to_datetime(crime_data.occurrencedate)\n",
    "crime_data.reporteddate = pd.to_datetime(crime_data.reporteddate)"
   ]
  },
  {
   "cell_type": "markdown",
   "metadata": {},
   "source": [
    "There are still some useless columns left, so let's drop them."
   ]
  },
  {
   "cell_type": "code",
   "execution_count": 9,
   "metadata": {},
   "outputs": [],
   "source": [
    "crime_data.drop(['reportedyear', 'reportedmonth', 'reportedday', 'reporteddayofyear', \n",
    "                'occurrenceyear', 'occurrencemonth', 'occurrenceday', 'occurrencedayofyear'],\n",
    "                axis=1, inplace=True)"
   ]
  },
  {
   "cell_type": "markdown",
   "metadata": {},
   "source": [
    "Finally, let's transform string variables into categorical."
   ]
  },
  {
   "cell_type": "code",
   "execution_count": 10,
   "metadata": {},
   "outputs": [],
   "source": [
    "crime_data.premisetype = crime_data.premisetype.astype('category', errors='raise')\n",
    "crime_data.offence = crime_data.offence.astype('category', errors='raise')\n",
    "crime_data.MCI = crime_data.MCI.astype('category', errors='raise')\n",
    "crime_data.reporteddayofweek = crime_data.reporteddayofweek.astype('category', errors='raise')\n",
    "# there are whitespaces in the days of week, which should be removed before transformation\n",
    "crime_data.occurrencedayofweek = crime_data.occurrencedayofweek.str.rstrip().astype('category', errors='raise')\n",
    "crime_data.Division = crime_data.Division.astype('category', errors='raise')"
   ]
  },
  {
   "cell_type": "markdown",
   "metadata": {},
   "source": [
    "As a result, the dataset is now ready for the analysis."
   ]
  },
  {
   "cell_type": "markdown",
   "metadata": {},
   "source": [
    "### K-Means Clustering"
   ]
  },
  {
   "cell_type": "markdown",
   "metadata": {},
   "source": [
    "To begin, I will define the function which will return the scatter plot with cluster centroids on it."
   ]
  },
  {
   "cell_type": "code",
   "execution_count": 11,
   "metadata": {},
   "outputs": [],
   "source": [
    "def doKMeans(data, n_clusters):\n",
    "    fig = plt.figure()\n",
    "    ax = fig.add_subplot(111)\n",
    "    ax.scatter(data.Long, data.Lat, marker='.', c='blue', alpha=0.2)\n",
    "    \n",
    "    data = data.loc[:, ['Long', 'Lat']]\n",
    "    \n",
    "    model = KMeans(n_clusters=n_clusters)\n",
    "    model.fit(data)\n",
    "    \n",
    "    centroids = model.cluster_centers_\n",
    "    print(centroids)\n",
    "    ax.scatter(centroids[:,0], centroids[:,1], marker='x', c='red', alpha=0.8, linewidths=3, s=169)\n",
    "    plt.show()"
   ]
  },
  {
   "cell_type": "markdown",
   "metadata": {},
   "source": [
    "Now let's create a slice of the data with only Break and Enter crimes, which occurred at apartments."
   ]
  },
  {
   "cell_type": "code",
   "execution_count": 12,
   "metadata": {},
   "outputs": [],
   "source": [
    "break_enter_ap = crime_data[(crime_data.MCI == 'Break and Enter')\n",
    "                           & (crime_data.premisetype == 'Apartment')]\n",
    "break_enter_ap.reset_index(inplace=True, drop=True)"
   ]
  },
  {
   "cell_type": "markdown",
   "metadata": {},
   "source": [
    "Finally, let's call the function with our sliced data and with 3 clusters."
   ]
  },
  {
   "cell_type": "code",
   "execution_count": 13,
   "metadata": {
    "scrolled": false
   },
   "outputs": [
    {
     "name": "stdout",
     "output_type": "stream",
     "text": [
      "[[-79.50608718  43.70331137]\n",
      " [-79.2815728   43.74187513]\n",
      " [-79.39405628  43.67155631]]\n"
     ]
    },
    {
     "data": {
      "image/png": "[encoded data removed]",
      "text/plain": [
       "<Figure size 432x288 with 1 Axes>"
      ]
     },
     "metadata": {},
     "output_type": "display_data"
    }
   ],
   "source": [
    "doKMeans(break_enter_ap, 3)"
   ]
  },
  {
   "cell_type": "markdown",
   "metadata": {},
   "source": [
    "I chose 3 as a number of clusters because I wanted to see the overall number of break-ins in Toronto, while keeping in mind that the largest amount of apartments is located in Downtown of Toronto, whereas other municipalities within Toronto have less apartments, but bigger number of houses. Hence, it was not a surprise that the highest density of Break and Enter crimes is in Downtown, while two other centroids are located in York and Scarborough with more spread out observations.\n",
    "\n",
    "Nevertheless, I am mostly interested in the Downtown cluster so I want to 'zoom-in' the scatter plot and divide it into clusters itself.\n",
    "\n",
    "In addition, there is an outlier, which should be removed. It is an obvious outlier because there are no apartments on Toronto Island. "
   ]
  },
  {
   "cell_type": "code",
   "execution_count": 14,
   "metadata": {
    "scrolled": true
   },
   "outputs": [
    {
     "name": "stderr",
     "output_type": "stream",
     "text": [
      "/Users/apple/Library/Python/2.7/lib/python/site-packages/ipykernel_launcher.py:2: SettingWithCopyWarning: \n",
      "A value is trying to be set on a copy of a slice from a DataFrame\n",
      "\n",
      "See the caveats in the documentation: http://pandas.pydata.org/pandas-docs/stable/indexing.html#indexing-view-versus-copy\n",
      "  \n"
     ]
    }
   ],
   "source": [
    "break_enter_ap[(break_enter_ap.Long > -79.4) & (break_enter_ap.Lat < 43.63)]\n",
    "break_enter_ap.drop(71, axis=0, inplace=True)"
   ]
  },
  {
   "cell_type": "code",
   "execution_count": 15,
   "metadata": {},
   "outputs": [
    {
     "name": "stdout",
     "output_type": "stream",
     "text": [
      "[[-79.37393286  43.66167602]\n",
      " [-79.39746564  43.64845085]\n",
      " [-79.42072243  43.64769858]]\n"
     ]
    },
    {
     "data": {
      "image/png": "[encoded data removed]",
      "text/plain": [
       "<Figure size 432x288 with 1 Axes>"
      ]
     },
     "metadata": {},
     "output_type": "display_data"
    }
   ],
   "source": [
    "doKMeans(break_enter_ap[(break_enter_ap.Hood_ID > 70) & (break_enter_ap.Hood_ID < 85)], 3)"
   ]
  },
  {
   "cell_type": "markdown",
   "metadata": {},
   "source": [
    "The right centroid is located between Yonge-Church corridor and Cabbage town. This centroid indicates the general location of right cluster, which has the biggest density of break-ins among 3 clusters. However, the centroid in the left illustrates the approximate location of left cluster with the lowest density of break-ins. It includes Little Portugal and Liberty village. The middle centroid is located in the heart of Chinatown and its cluster is more scattered than the cluster on the East of downtown, but more dense then the one on the West. Hence, according to the distance between the three centroids, the cluster on the right side is more isolated with the higher density of observations."
   ]
  },
  {
   "cell_type": "markdown",
   "metadata": {},
   "source": [
    "### Conclusion"
   ]
  },
  {
   "cell_type": "markdown",
   "metadata": {},
   "source": [
    "In general, I would definetely advise my friend and those, who are looking for a new apartment, to avoid the northern part of Church-Yonge corridor and Cabbagetown, because of the high rate of Break and Enter crimes of those neighbourhoods. However, I would recommend to consider looking for an apartment in the East of downtown, particularly in Little Portugal or Liberty Village."
   ]
  }
 ],
 "metadata": {
  "kernelspec": {
   "display_name": "Python 3",
   "language": "python",
   "name": "python3"
  },
  "language_info": {
   "codemirror_mode": {
    "name": "ipython",
    "version": 2
   },
   "file_extension": ".py",
   "mimetype": "text/x-python",
   "name": "python",
   "nbconvert_exporter": "python",
   "pygments_lexer": "ipython2",
   "version": "2.7.15"
  }
 },
 "nbformat": 4,
 "nbformat_minor": 2
}
